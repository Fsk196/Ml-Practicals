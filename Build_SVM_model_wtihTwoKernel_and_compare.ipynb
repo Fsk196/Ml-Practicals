{
 "cells": [
  {
   "cell_type": "code",
   "execution_count": 1,
   "id": "ee92dcac",
   "metadata": {},
   "outputs": [],
   "source": [
    "import pandas as pd\n",
    "from sklearn import svm\n",
    "from sklearn.model_selection import train_test_split\n",
    "from sklearn.metrics import accuracy_score"
   ]
  },
  {
   "cell_type": "code",
   "execution_count": 2,
   "id": "72ea7589",
   "metadata": {},
   "outputs": [],
   "source": [
    "# Load the dataset\n",
    "data = pd.read_csv(\"https://archive.ics.uci.edu/ml/machine-learning-databases/00292/Wholesale%20customers%20data.csv\")"
   ]
  },
  {
   "cell_type": "code",
   "execution_count": 3,
   "id": "f42b57bf",
   "metadata": {},
   "outputs": [],
   "source": [
    "# Split the dataset into features and target\n",
    "X = data.drop(['Channel'], axis=1) # select feature variables\n",
    "y = data['Channel']               # select target variable"
   ]
  },
  {
   "cell_type": "code",
   "execution_count": 4,
   "id": "05067548",
   "metadata": {},
   "outputs": [],
   "source": [
    "# Split the dataset into training and test sets\n",
    "X_train, X_test, y_train, y_test = train_test_split(X, y, test_size=0.2, random_state=1)"
   ]
  },
  {
   "cell_type": "code",
   "execution_count": 5,
   "id": "6ca83eb2",
   "metadata": {},
   "outputs": [
    {
     "name": "stdout",
     "output_type": "stream",
     "text": [
      "Accuracy (Linear Kernel): 0.8181818181818182\n"
     ]
    }
   ],
   "source": [
    "# Create a SVM classifier with linear kernel\n",
    "clf_linear = svm.SVC(kernel='linear')\n",
    "\n",
    "# Train the classifier\n",
    "clf_linear.fit(X_train, y_train)\n",
    "\n",
    "# Test the classifier on the test set\n",
    "y_pred_linear = clf_linear.predict(X_test)\n",
    "\n",
    "# Print the accuracy of the classifier with linear kernel\n",
    "print(\"Accuracy (Linear Kernel):\", accuracy_score(y_test, y_pred_linear))"
   ]
  },
  {
   "cell_type": "code",
   "execution_count": 6,
   "id": "af37d529",
   "metadata": {},
   "outputs": [
    {
     "name": "stdout",
     "output_type": "stream",
     "text": [
      "Accuracy (RBF Kernel): 0.8863636363636364\n"
     ]
    }
   ],
   "source": [
    "# Create a SVM classifier with radial basis function (RBF) kernel\n",
    "clf_rbf = svm.SVC(kernel='rbf')\n",
    "\n",
    "# Train the classifier\n",
    "clf_rbf.fit(X_train, y_train)\n",
    "# Test the classifier on the test set\n",
    "y_pred_rbf = clf_rbf.predict(X_test)\n",
    "\n",
    "# Print the accuracy of the classifier with RBF kernel\n",
    "print(\"Accuracy (RBF Kernel):\", accuracy_score(y_test, y_pred_rbf))"
   ]
  },
  {
   "cell_type": "code",
   "execution_count": null,
   "id": "ed9b9169",
   "metadata": {},
   "outputs": [],
   "source": []
  }
 ],
 "metadata": {
  "kernelspec": {
   "display_name": "Python 3 (ipykernel)",
   "language": "python",
   "name": "python3"
  },
  "language_info": {
   "codemirror_mode": {
    "name": "ipython",
    "version": 3
   },
   "file_extension": ".py",
   "mimetype": "text/x-python",
   "name": "python",
   "nbconvert_exporter": "python",
   "pygments_lexer": "ipython3",
   "version": "3.9.13"
  }
 },
 "nbformat": 4,
 "nbformat_minor": 5
}
