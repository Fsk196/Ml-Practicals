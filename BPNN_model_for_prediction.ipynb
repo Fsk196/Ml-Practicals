{
 "cells": [
  {
   "cell_type": "markdown",
   "id": "be13d47b",
   "metadata": {},
   "source": [
    "# Back propagation neural network (BPNN) model for prediction using the Wholesale Customers dataset"
   ]
  },
  {
   "cell_type": "code",
   "execution_count": 1,
   "id": "dec47053",
   "metadata": {},
   "outputs": [],
   "source": [
    "import pandas as pd\n",
    "from sklearn.neural_network import MLPClassifier\n",
    "from sklearn.model_selection import train_test_split\n",
    "from sklearn.metrics import accuracy_score"
   ]
  },
  {
   "cell_type": "code",
   "execution_count": 2,
   "id": "451e46f7",
   "metadata": {},
   "outputs": [],
   "source": [
    "# load the dataset\n",
    "url = \"https://archive.ics.uci.edu/ml/machine-learning-databases/00292/Wholesale%20customers%20data.csv\"\n",
    "data = pd.read_csv(url)"
   ]
  },
  {
   "cell_type": "code",
   "execution_count": 3,
   "id": "81d6f071",
   "metadata": {},
   "outputs": [],
   "source": [
    "# select the features and target\n",
    "X = data[data.columns[2:]]\n",
    "y = data['Channel']"
   ]
  },
  {
   "cell_type": "code",
   "execution_count": 4,
   "id": "ecd69495",
   "metadata": {},
   "outputs": [],
   "source": [
    "# split the data into training and test sets\n",
    "X_train, X_test, y_train, y_test = train_test_split(X, y, test_size=0.2, random_state=0)"
   ]
  },
  {
   "cell_type": "code",
   "execution_count": 5,
   "id": "f70f3d72",
   "metadata": {},
   "outputs": [
    {
     "name": "stdout",
     "output_type": "stream",
     "text": [
      "Iteration 1, loss = 16.58433857\n",
      "Iteration 2, loss = 7.68029015\n",
      "Iteration 3, loss = 9.08344338\n",
      "Iteration 4, loss = 11.60397996\n",
      "Iteration 5, loss = 6.24698357\n",
      "Iteration 6, loss = 5.73424126\n",
      "Iteration 7, loss = 5.63184736\n",
      "Iteration 8, loss = 6.04143694\n",
      "Iteration 9, loss = 7.07164458\n",
      "Iteration 10, loss = 9.00379317\n",
      "Iteration 11, loss = 7.36696485\n",
      "Iteration 12, loss = 6.24623881\n",
      "Iteration 13, loss = 5.35301568\n",
      "Iteration 14, loss = 5.15014046\n",
      "Iteration 15, loss = 6.76328797\n",
      "Iteration 16, loss = 5.42707319\n",
      "Iteration 17, loss = 6.76191829\n",
      "Iteration 18, loss = 5.62924556\n",
      "Iteration 19, loss = 5.27686529\n",
      "Iteration 20, loss = 4.70481773\n",
      "Iteration 21, loss = 6.77473882\n",
      "Iteration 22, loss = 11.08051231\n",
      "Iteration 23, loss = 5.72682911\n",
      "Iteration 24, loss = 8.77862216\n",
      "Iteration 25, loss = 6.62001789\n",
      "Iteration 26, loss = 5.32467812\n",
      "Iteration 27, loss = 5.46096776\n",
      "Iteration 28, loss = 11.65153143\n",
      "Iteration 29, loss = 8.17855265\n",
      "Iteration 30, loss = 4.79777690\n",
      "Iteration 31, loss = 9.23910115\n",
      "Training loss did not improve more than tol=0.000100 for 10 consecutive epochs. Stopping.\n"
     ]
    },
    {
     "data": {
      "text/plain": [
       "MLPClassifier(learning_rate_init=0.1, max_iter=1000, random_state=1, verbose=10)"
      ]
     },
     "execution_count": 5,
     "metadata": {},
     "output_type": "execute_result"
    }
   ],
   "source": [
    "# train the back propagation neural network model on the training data  \n",
    "clf = MLPClassifier(hidden_layer_sizes=(100,), max_iter=1000, activation='relu', #in place of relu you can use \"logistic\", \"tanh\" and it will give different values\n",
    "                    solver='adam', verbose=10, tol=1e-4, random_state=1,\n",
    "                    learning_rate_init=.1)\n",
    "clf.fit(X_train, y_train)"
   ]
  },
  {
   "cell_type": "code",
   "execution_count": 6,
   "id": "44ac5b59",
   "metadata": {},
   "outputs": [
    {
     "name": "stdout",
     "output_type": "stream",
     "text": [
      "Accuracy:  0.8636363636363636\n"
     ]
    }
   ],
   "source": [
    "# make predictions on the test data\n",
    "y_pred = clf.predict(X_test)\n",
    "\n",
    "# evaluate the model's accuracy on the test data\n",
    "accuracy = accuracy_score(y_test, y_pred)\n",
    "print(\"Accuracy: \", accuracy)"
   ]
  },
  {
   "cell_type": "code",
   "execution_count": null,
   "id": "5781a8b4",
   "metadata": {},
   "outputs": [],
   "source": []
  }
 ],
 "metadata": {
  "kernelspec": {
   "display_name": "Python 3 (ipykernel)",
   "language": "python",
   "name": "python3"
  },
  "language_info": {
   "codemirror_mode": {
    "name": "ipython",
    "version": 3
   },
   "file_extension": ".py",
   "mimetype": "text/x-python",
   "name": "python",
   "nbconvert_exporter": "python",
   "pygments_lexer": "ipython3",
   "version": "3.9.13"
  }
 },
 "nbformat": 4,
 "nbformat_minor": 5
}
