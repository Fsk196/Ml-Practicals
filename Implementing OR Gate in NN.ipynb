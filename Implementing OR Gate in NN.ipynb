{
 "cells": [
  {
   "cell_type": "markdown",
   "id": "1f5a8bbe",
   "metadata": {},
   "source": [
    "# IMPLEMENTING OR GATE IN NN"
   ]
  },
  {
   "cell_type": "code",
   "execution_count": 1,
   "id": "2a142707",
   "metadata": {},
   "outputs": [],
   "source": [
    "import numpy as np "
   ]
  },
  {
   "cell_type": "code",
   "execution_count": 2,
   "id": "e3ac94c3",
   "metadata": {},
   "outputs": [],
   "source": [
    "# Define sigmoid function for activation\n",
    "def sigmoid(x):\n",
    "    return 1 / (1 + np.exp(-x))"
   ]
  },
  {
   "cell_type": "code",
   "execution_count": 3,
   "id": "ba436aaa",
   "metadata": {},
   "outputs": [],
   "source": [
    "# Define derivative of sigmoid function\n",
    "def sigmoid_derivative(x):\n",
    "    return x * (1 - x)"
   ]
  },
  {
   "cell_type": "code",
   "execution_count": 4,
   "id": "934568f8",
   "metadata": {},
   "outputs": [],
   "source": [
    "# Define input and output data for OR gate\n",
    "X = np.array([[0,0,1], [0,1,1], [1,0,1], [1,1,1]])\n",
    "y = np.array([[0], [1], [1], [1]])"
   ]
  },
  {
   "cell_type": "code",
   "execution_count": 7,
   "id": "990155f6",
   "metadata": {},
   "outputs": [],
   "source": [
    "# Define random initial weights\n",
    "np.random.seed(1)\n",
    "W = np.random.randn(3,1)"
   ]
  },
  {
   "cell_type": "code",
   "execution_count": 5,
   "id": "d1e1eb89",
   "metadata": {},
   "outputs": [],
   "source": [
    "# Define learning rate and number of iterations\n",
    "lr = 0.1\n",
    "epochs = 5000"
   ]
  },
  {
   "cell_type": "code",
   "execution_count": 8,
   "id": "79a96978",
   "metadata": {},
   "outputs": [
    {
     "name": "stdout",
     "output_type": "stream",
     "text": [
      "Epoch: 0 Error: 0.4400692478763586\n",
      "Epoch: 100 Error: 0.2525524567620735\n",
      "Epoch: 200 Error: 0.2120444751877897\n",
      "Epoch: 300 Error: 0.1863085450800188\n",
      "Epoch: 400 Error: 0.16706702073600455\n",
      "Epoch: 500 Error: 0.15203892464260957\n",
      "Epoch: 600 Error: 0.13996915788996245\n",
      "Epoch: 700 Error: 0.13005491499284758\n",
      "Epoch: 800 Error: 0.12175739674859062\n",
      "Epoch: 900 Error: 0.11470272971437327\n",
      "Epoch: 1000 Error: 0.10862394437581745\n",
      "Epoch: 1100 Error: 0.10332556060116273\n",
      "Epoch: 1200 Error: 0.09866125786367821\n",
      "Epoch: 1300 Error: 0.09451937215962514\n",
      "Epoch: 1400 Error: 0.09081321847789572\n",
      "Epoch: 1500 Error: 0.08747447399772526\n",
      "Epoch: 1600 Error: 0.08444855386064815\n",
      "Epoch: 1700 Error: 0.08169131522286527\n",
      "Epoch: 1800 Error: 0.07916666596613556\n",
      "Epoch: 1900 Error: 0.07684480165256564\n",
      "Epoch: 2000 Error: 0.07470088654718748\n",
      "Epoch: 2100 Error: 0.07271405362454708\n",
      "Epoch: 2200 Error: 0.0708666371112831\n",
      "Epoch: 2300 Error: 0.06914357685385936\n",
      "Epoch: 2400 Error: 0.06753195124249187\n",
      "Epoch: 2500 Error: 0.06602060743116778\n",
      "Epoch: 2600 Error: 0.06459986598375433\n",
      "Epoch: 2700 Error: 0.06326128301804337\n",
      "Epoch: 2800 Error: 0.0619974571809556\n",
      "Epoch: 2900 Error: 0.060801871880377126\n",
      "Epoch: 3000 Error: 0.05966876546770764\n",
      "Epoch: 3100 Error: 0.05859302374669441\n",
      "Epoch: 3200 Error: 0.057570090442488606\n",
      "Epoch: 3300 Error: 0.0565958922151194\n",
      "Epoch: 3400 Error: 0.055666775525280376\n",
      "Epoch: 3500 Error: 0.05477945321593282\n",
      "Epoch: 3600 Error: 0.053930959103011364\n",
      "Epoch: 3700 Error: 0.053118609203364496\n",
      "Epoch: 3800 Error: 0.05233996849071642\n",
      "Epoch: 3900 Error: 0.051592822277785624\n",
      "Epoch: 4000 Error: 0.050875151487391815\n",
      "Epoch: 4100 Error: 0.050185111206960245\n",
      "Epoch: 4200 Error: 0.04952101202652761\n",
      "Epoch: 4300 Error: 0.04888130374571585\n",
      "Epoch: 4400 Error: 0.04826456110441485\n",
      "Epoch: 4500 Error: 0.04766947124841909\n",
      "Epoch: 4600 Error: 0.04709482268754861\n",
      "Epoch: 4700 Error: 0.046539495541874296\n",
      "Epoch: 4800 Error: 0.046002452903144087\n",
      "Epoch: 4900 Error: 0.045482733164618996\n"
     ]
    }
   ],
   "source": [
    "# Train the neural network using backpropagation\n",
    "for i in range(epochs):\n",
    "    # Forward propagation\n",
    "    z = np.dot(X, W)\n",
    "    y_pred = sigmoid(z)\n",
    "    \n",
    "    # Calculate error and delta for output layer\n",
    "    error = y - y_pred\n",
    "    delta = error * sigmoid_derivative(y_pred)\n",
    "    \n",
    "    # Update weights\n",
    "    W += np.dot(X.T, delta) * lr\n",
    "    \n",
    "    # Print progress\n",
    "    if i % 100 == 0:\n",
    "        print(\"Epoch:\", i, \"Error:\", np.mean(np.abs(error)))"
   ]
  },
  {
   "cell_type": "code",
   "execution_count": 9,
   "id": "062b8b23",
   "metadata": {},
   "outputs": [
    {
     "name": "stdout",
     "output_type": "stream",
     "text": [
      "Input:\n",
      "[[0 0]\n",
      " [0 1]\n",
      " [1 0]\n",
      " [1 1]]\n",
      "Output:\n",
      "[[0.]\n",
      " [1.]\n",
      " [1.]\n",
      " [1.]]\n"
     ]
    }
   ],
   "source": [
    "#Test the trained neural network on new data \n",
    "test_data = np.array([[0,0,1], [0,1,1], [1,0,1], [1,1,1]])\n",
    "test_output = sigmoid(np.dot(test_data, W))\n",
    "print(\"Input:\")\n",
    "print(test_data[:,:2])\n",
    "print(\"Output:\")\n",
    "print(np.round(test_output))"
   ]
  },
  {
   "cell_type": "code",
   "execution_count": null,
   "id": "8921029f",
   "metadata": {},
   "outputs": [],
   "source": []
  }
 ],
 "metadata": {
  "kernelspec": {
   "display_name": "Python 3 (ipykernel)",
   "language": "python",
   "name": "python3"
  },
  "language_info": {
   "codemirror_mode": {
    "name": "ipython",
    "version": 3
   },
   "file_extension": ".py",
   "mimetype": "text/x-python",
   "name": "python",
   "nbconvert_exporter": "python",
   "pygments_lexer": "ipython3",
   "version": "3.9.13"
  }
 },
 "nbformat": 4,
 "nbformat_minor": 5
}
