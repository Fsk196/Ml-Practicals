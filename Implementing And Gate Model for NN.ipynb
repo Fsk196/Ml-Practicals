{
 "cells": [
  {
   "cell_type": "code",
   "execution_count": 1,
   "id": "817c38bd",
   "metadata": {},
   "outputs": [],
   "source": [
    "import numpy as np"
   ]
  },
  {
   "cell_type": "code",
   "execution_count": 2,
   "id": "5500ff59",
   "metadata": {},
   "outputs": [],
   "source": [
    "#Define signoid function for activation\n",
    "def sigmoid(x):\n",
    "    return 1/(1 + np.exp(-x))"
   ]
  },
  {
   "cell_type": "code",
   "execution_count": 3,
   "id": "da0904f5",
   "metadata": {},
   "outputs": [],
   "source": [
    "#define derivative of sigmoid function\n",
    "def sigmoid_derivative(x):\n",
    "    return x * (1 - x)"
   ]
  },
  {
   "cell_type": "code",
   "execution_count": 4,
   "id": "0d96c916",
   "metadata": {},
   "outputs": [],
   "source": [
    "#Define input and output data for AND gate\n",
    "# 2-input AND gate, and a bias term is added (1) to each input.\n",
    "X = np.array([[0,0,1], [0,1,1], [1,0,1], [1,1,1]])\n",
    "y = np.array([[0], [0], [0], [1]])"
   ]
  },
  {
   "cell_type": "code",
   "execution_count": 5,
   "id": "fb4537dc",
   "metadata": {},
   "outputs": [],
   "source": [
    "# Define random initial and weights\n",
    "np.random.seed(1)\n",
    "W = np.random.randn(3,1)"
   ]
  },
  {
   "cell_type": "code",
   "execution_count": 6,
   "id": "5f0942fa",
   "metadata": {},
   "outputs": [],
   "source": [
    "# Define learning rate and number of iterations\n",
    "lr = 0.1\n",
    "epochs = 5000"
   ]
  },
  {
   "cell_type": "code",
   "execution_count": 8,
   "id": "27b96133",
   "metadata": {},
   "outputs": [
    {
     "name": "stdout",
     "output_type": "stream",
     "text": [
      "Epoch: 0 Error: 0.0649951964874228\n",
      "Epoch: 1000 Error: 0.05873582196126423\n",
      "Epoch: 2000 Error: 0.0539281714278243\n",
      "Epoch: 3000 Error: 0.05009381876101244\n",
      "Epoch: 4000 Error: 0.04694778500122046\n",
      "Input:\n",
      "[[0 0]\n",
      " [0 1]\n",
      " [1 0]\n",
      " [1 1]]\n",
      "Output:\n",
      "[[0.]\n",
      " [0.]\n",
      " [0.]\n",
      " [1.]]\n"
     ]
    }
   ],
   "source": [
    "# Train the neural network using backpropagation\n",
    "for i in range(epochs):\n",
    "    # Forward propagation\n",
    "    z = np.dot(X, W)\n",
    "    y_pred = sigmoid(z)\n",
    "    \n",
    "    # Calculate error and delta for output layer\n",
    "    error = y - y_pred\n",
    "    delta = error * sigmoid_derivative(y_pred)\n",
    "    \n",
    "    # Update weights\n",
    "    W += np.dot(X.T, delta) * lr\n",
    "    \n",
    "    # Print progress\n",
    "    if i % 1000 == 0:\n",
    "        print(\"Epoch:\", i, \"Error:\", np.mean(np.abs(error)))\n",
    "\n",
    "#Test the trained neural network on new data \n",
    "test_data = np.array([[0,0,1], [0,1,1], [1,0,1], [1,1,1]])\n",
    "test_output = sigmoid(np.dot(test_data, W))\n",
    "print(\"Input:\")\n",
    "print(test_data[:,:2])\n",
    "print(\"Output:\")\n",
    "print(np.round(test_output))"
   ]
  },
  {
   "cell_type": "code",
   "execution_count": null,
   "id": "0928a18c",
   "metadata": {},
   "outputs": [],
   "source": []
  }
 ],
 "metadata": {
  "kernelspec": {
   "display_name": "Python 3 (ipykernel)",
   "language": "python",
   "name": "python3"
  },
  "language_info": {
   "codemirror_mode": {
    "name": "ipython",
    "version": 3
   },
   "file_extension": ".py",
   "mimetype": "text/x-python",
   "name": "python",
   "nbconvert_exporter": "python",
   "pygments_lexer": "ipython3",
   "version": "3.9.13"
  }
 },
 "nbformat": 4,
 "nbformat_minor": 5
}
